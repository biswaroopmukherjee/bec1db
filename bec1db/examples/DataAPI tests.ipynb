{
 "cells": [
  {
   "cell_type": "code",
   "execution_count": 1,
   "metadata": {
    "collapsed": false
   },
   "outputs": [],
   "source": [
    "import bec1db as db\n",
    "import pandas as pd"
   ]
  },
  {
   "cell_type": "code",
   "execution_count": 2,
   "metadata": {
    "collapsed": true
   },
   "outputs": [],
   "source": [
    "tul = db.Tullia()"
   ]
  },
  {
   "cell_type": "code",
   "execution_count": 4,
   "metadata": {
    "collapsed": false
   },
   "outputs": [
    {
     "data": {
      "text/html": [
       "<div>\n",
       "<table border=\"1\" class=\"dataframe\">\n",
       "  <thead>\n",
       "    <tr style=\"text-align: right;\">\n",
       "      <th></th>\n",
       "      <th>imagename</th>\n",
       "      <th>ImagFreq1</th>\n",
       "      <th>ImagFreq2</th>\n",
       "      <th>IREvap</th>\n",
       "      <th>RF23_Center</th>\n",
       "      <th>RFspect</th>\n",
       "      <th>FB_field_13</th>\n",
       "    </tr>\n",
       "  </thead>\n",
       "  <tbody>\n",
       "    <tr>\n",
       "      <th>0</th>\n",
       "      <td>11-19-2016_21_40_06</td>\n",
       "      <td>149.9</td>\n",
       "      <td>189.4</td>\n",
       "      <td>0.75</td>\n",
       "      <td>84.02</td>\n",
       "      <td>76.0275</td>\n",
       "      <td>3.556</td>\n",
       "    </tr>\n",
       "    <tr>\n",
       "      <th>0</th>\n",
       "      <td>11-19-2016_21_40_06</td>\n",
       "      <td>149.9</td>\n",
       "      <td>189.4</td>\n",
       "      <td>0.75</td>\n",
       "      <td>84.02</td>\n",
       "      <td>76.0275</td>\n",
       "      <td>3.556</td>\n",
       "    </tr>\n",
       "    <tr>\n",
       "      <th>0</th>\n",
       "      <td>11-19-2016_21_39_17</td>\n",
       "      <td>149.9</td>\n",
       "      <td>189.4</td>\n",
       "      <td>0.75</td>\n",
       "      <td>84.02</td>\n",
       "      <td>76.0270</td>\n",
       "      <td>3.556</td>\n",
       "    </tr>\n",
       "    <tr>\n",
       "      <th>0</th>\n",
       "      <td>11-19-2016_21_39_17</td>\n",
       "      <td>149.9</td>\n",
       "      <td>189.4</td>\n",
       "      <td>0.75</td>\n",
       "      <td>84.02</td>\n",
       "      <td>76.0270</td>\n",
       "      <td>3.556</td>\n",
       "    </tr>\n",
       "    <tr>\n",
       "      <th>0</th>\n",
       "      <td>11-19-2016_21_38_28</td>\n",
       "      <td>149.9</td>\n",
       "      <td>189.4</td>\n",
       "      <td>0.75</td>\n",
       "      <td>84.02</td>\n",
       "      <td>76.0265</td>\n",
       "      <td>3.556</td>\n",
       "    </tr>\n",
       "    <tr>\n",
       "      <th>0</th>\n",
       "      <td>11-19-2016_21_38_28</td>\n",
       "      <td>149.9</td>\n",
       "      <td>189.4</td>\n",
       "      <td>0.75</td>\n",
       "      <td>84.02</td>\n",
       "      <td>76.0265</td>\n",
       "      <td>3.556</td>\n",
       "    </tr>\n",
       "    <tr>\n",
       "      <th>0</th>\n",
       "      <td>11-19-2016_21_37_40</td>\n",
       "      <td>149.9</td>\n",
       "      <td>189.4</td>\n",
       "      <td>0.75</td>\n",
       "      <td>84.02</td>\n",
       "      <td>76.0260</td>\n",
       "      <td>3.556</td>\n",
       "    </tr>\n",
       "    <tr>\n",
       "      <th>0</th>\n",
       "      <td>11-19-2016_21_37_40</td>\n",
       "      <td>149.9</td>\n",
       "      <td>189.4</td>\n",
       "      <td>0.75</td>\n",
       "      <td>84.02</td>\n",
       "      <td>76.0260</td>\n",
       "      <td>3.556</td>\n",
       "    </tr>\n",
       "    <tr>\n",
       "      <th>0</th>\n",
       "      <td>11-19-2016_21_36_51</td>\n",
       "      <td>149.9</td>\n",
       "      <td>189.4</td>\n",
       "      <td>0.75</td>\n",
       "      <td>84.02</td>\n",
       "      <td>76.0255</td>\n",
       "      <td>3.556</td>\n",
       "    </tr>\n",
       "  </tbody>\n",
       "</table>\n",
       "</div>"
      ],
      "text/plain": [
       "             imagename  ImagFreq1  ImagFreq2  IREvap  RF23_Center  RFspect  \\\n",
       "0  11-19-2016_21_40_06      149.9      189.4    0.75        84.02  76.0275   \n",
       "0  11-19-2016_21_40_06      149.9      189.4    0.75        84.02  76.0275   \n",
       "0  11-19-2016_21_39_17      149.9      189.4    0.75        84.02  76.0270   \n",
       "0  11-19-2016_21_39_17      149.9      189.4    0.75        84.02  76.0270   \n",
       "0  11-19-2016_21_38_28      149.9      189.4    0.75        84.02  76.0265   \n",
       "0  11-19-2016_21_38_28      149.9      189.4    0.75        84.02  76.0265   \n",
       "0  11-19-2016_21_37_40      149.9      189.4    0.75        84.02  76.0260   \n",
       "0  11-19-2016_21_37_40      149.9      189.4    0.75        84.02  76.0260   \n",
       "0  11-19-2016_21_36_51      149.9      189.4    0.75        84.02  76.0255   \n",
       "\n",
       "   FB_field_13  \n",
       "0        3.556  \n",
       "0        3.556  \n",
       "0        3.556  \n",
       "0        3.556  \n",
       "0        3.556  \n",
       "0        3.556  \n",
       "0        3.556  \n",
       "0        3.556  \n",
       "0        3.556  "
      ]
     },
     "execution_count": 4,
     "metadata": {},
     "output_type": "execute_result"
    }
   ],
   "source": [
    "df = pd.read_clipboard(names=['blah'])\n",
    "images=['11-19-2016_21_40_03_TopA','11-19-2016_21_40_03_TopB','11-19-2016_21_39_15_TopA','11-19-2016_21_39_15_TopB','11-19-2016_21_38_26_TopA','11-19-2016_21_38_26_TopB','11-19-2016_21_37_37_TopA','11-19-2016_21_37_37_TopB','11-19-2016_21_36_49_TopA']\n",
    "params = ['ImagFreq1', 'ImagFreq2','IREvap','RF23_Center','RFspect','FB_field_13']\n",
    "out = tul.image_query(images,params)\n",
    "out"
   ]
  },
  {
   "cell_type": "code",
   "execution_count": null,
   "metadata": {
    "collapsed": true
   },
   "outputs": [],
   "source": []
  },
  {
   "cell_type": "code",
   "execution_count": null,
   "metadata": {
    "collapsed": true
   },
   "outputs": [],
   "source": []
  }
 ],
 "metadata": {
  "anaconda-cloud": {},
  "kernelspec": {
   "display_name": "Python [conda root]",
   "language": "python",
   "name": "conda-root-py"
  },
  "language_info": {
   "codemirror_mode": {
    "name": "ipython",
    "version": 3
   },
   "file_extension": ".py",
   "mimetype": "text/x-python",
   "name": "python",
   "nbconvert_exporter": "python",
   "pygments_lexer": "ipython3",
   "version": "3.5.2"
  }
 },
 "nbformat": 4,
 "nbformat_minor": 1
}
