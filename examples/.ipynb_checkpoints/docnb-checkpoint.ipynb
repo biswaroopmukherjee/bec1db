{
 "cells": [
  {
   "cell_type": "code",
   "execution_count": 1,
   "metadata": {
    "collapsed": false
   },
   "outputs": [
    {
     "data": {
      "text/html": [
       "<div>\n",
       "<table border=\"1\" class=\"dataframe\">\n",
       "  <thead>\n",
       "    <tr style=\"text-align: right;\">\n",
       "      <th></th>\n",
       "      <th>RFspect</th>\n",
       "      <th>imagename</th>\n",
       "    </tr>\n",
       "  </thead>\n",
       "  <tbody>\n",
       "    <tr>\n",
       "      <th>0</th>\n",
       "      <td>76.032</td>\n",
       "      <td>12-10-2016_23_52_56_TopA</td>\n",
       "    </tr>\n",
       "    <tr>\n",
       "      <th>1</th>\n",
       "      <td>76.039</td>\n",
       "      <td>12-10-2016_23_52_05_TopB</td>\n",
       "    </tr>\n",
       "  </tbody>\n",
       "</table>\n",
       "</div>"
      ],
      "text/plain": [
       "   RFspect                 imagename\n",
       "0   76.032  12-10-2016_23_52_56_TopA\n",
       "1   76.039  12-10-2016_23_52_05_TopB"
      ]
     },
     "execution_count": 1,
     "metadata": {},
     "output_type": "execute_result"
    }
   ],
   "source": [
    "import bec1db as db\n",
    "\n",
    "tullia = db.Tullia()\n",
    "images = ['12-10-2016_23_52_56_TopA','12-10-2016_23_52_05_TopB']\n",
    "params = ['RFspect']\n",
    "df = tullia.image_query(images, params)\n",
    "df"
   ]
  }
 ],
 "metadata": {
  "kernelspec": {
   "display_name": "Python 3",
   "language": "python",
   "name": "python3"
  },
  "language_info": {
   "codemirror_mode": {
    "name": "ipython",
    "version": 3
   },
   "file_extension": ".py",
   "mimetype": "text/x-python",
   "name": "python",
   "nbconvert_exporter": "python",
   "pygments_lexer": "ipython3",
   "version": "3.5.1"
  }
 },
 "nbformat": 4,
 "nbformat_minor": 0
}
