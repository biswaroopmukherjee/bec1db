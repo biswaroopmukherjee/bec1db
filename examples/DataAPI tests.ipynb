{
 "cells": [
  {
   "cell_type": "code",
   "execution_count": 1,
   "metadata": {
    "collapsed": false
   },
   "outputs": [],
   "source": [
    "import bec1db as db\n",
    "import pandas as pd"
   ]
  },
  {
   "cell_type": "code",
   "execution_count": 2,
   "metadata": {
    "collapsed": false
   },
   "outputs": [
    {
     "name": "stdout",
     "output_type": "stream",
     "text": [
      "Updating the local database...\n",
      "Done\n"
     ]
    }
   ],
   "source": [
    "tul = db.Tullia()"
   ]
  },
  {
   "cell_type": "code",
   "execution_count": 5,
   "metadata": {
    "collapsed": false
   },
   "outputs": [
    {
     "data": {
      "text/html": [
       "<div>\n",
       "<table border=\"1\" class=\"dataframe\">\n",
       "  <thead>\n",
       "    <tr style=\"text-align: right;\">\n",
       "      <th></th>\n",
       "      <th>FB_field_13</th>\n",
       "      <th>IREvap</th>\n",
       "      <th>ImagFreq1</th>\n",
       "      <th>ImagFreq2</th>\n",
       "      <th>RF23_Center</th>\n",
       "      <th>RFspect</th>\n",
       "      <th>imagename</th>\n",
       "    </tr>\n",
       "  </thead>\n",
       "  <tbody>\n",
       "    <tr>\n",
       "      <th>0</th>\n",
       "      <td>3.556</td>\n",
       "      <td>0.75</td>\n",
       "      <td>149.9</td>\n",
       "      <td>189.4</td>\n",
       "      <td>84.02</td>\n",
       "      <td>76.0275</td>\n",
       "      <td>11-19-2016_21_40_03_TopA</td>\n",
       "    </tr>\n",
       "    <tr>\n",
       "      <th>1</th>\n",
       "      <td>3.556</td>\n",
       "      <td>0.75</td>\n",
       "      <td>149.9</td>\n",
       "      <td>189.4</td>\n",
       "      <td>84.02</td>\n",
       "      <td>76.0275</td>\n",
       "      <td>11-19-2016_21_40_03_TopB</td>\n",
       "    </tr>\n",
       "    <tr>\n",
       "      <th>2</th>\n",
       "      <td>3.556</td>\n",
       "      <td>0.75</td>\n",
       "      <td>149.9</td>\n",
       "      <td>189.4</td>\n",
       "      <td>84.02</td>\n",
       "      <td>76.0270</td>\n",
       "      <td>11-19-2016_21_39_15_TopA</td>\n",
       "    </tr>\n",
       "    <tr>\n",
       "      <th>3</th>\n",
       "      <td>3.556</td>\n",
       "      <td>0.75</td>\n",
       "      <td>149.9</td>\n",
       "      <td>189.4</td>\n",
       "      <td>84.02</td>\n",
       "      <td>76.0270</td>\n",
       "      <td>11-19-2016_21_39_15_TopB</td>\n",
       "    </tr>\n",
       "    <tr>\n",
       "      <th>4</th>\n",
       "      <td>3.556</td>\n",
       "      <td>0.75</td>\n",
       "      <td>149.9</td>\n",
       "      <td>189.4</td>\n",
       "      <td>84.02</td>\n",
       "      <td>76.0265</td>\n",
       "      <td>11-19-2016_21_38_26_TopA</td>\n",
       "    </tr>\n",
       "    <tr>\n",
       "      <th>5</th>\n",
       "      <td>3.556</td>\n",
       "      <td>0.75</td>\n",
       "      <td>149.9</td>\n",
       "      <td>189.4</td>\n",
       "      <td>84.02</td>\n",
       "      <td>76.0265</td>\n",
       "      <td>11-19-2016_21_38_26_TopB</td>\n",
       "    </tr>\n",
       "    <tr>\n",
       "      <th>6</th>\n",
       "      <td>3.556</td>\n",
       "      <td>0.75</td>\n",
       "      <td>149.9</td>\n",
       "      <td>189.4</td>\n",
       "      <td>84.02</td>\n",
       "      <td>76.0260</td>\n",
       "      <td>11-19-2016_21_37_37_TopA</td>\n",
       "    </tr>\n",
       "    <tr>\n",
       "      <th>7</th>\n",
       "      <td>3.556</td>\n",
       "      <td>0.75</td>\n",
       "      <td>149.9</td>\n",
       "      <td>189.4</td>\n",
       "      <td>84.02</td>\n",
       "      <td>76.0260</td>\n",
       "      <td>11-19-2016_21_37_37_TopB</td>\n",
       "    </tr>\n",
       "    <tr>\n",
       "      <th>8</th>\n",
       "      <td>3.556</td>\n",
       "      <td>0.75</td>\n",
       "      <td>149.9</td>\n",
       "      <td>189.4</td>\n",
       "      <td>84.02</td>\n",
       "      <td>76.0255</td>\n",
       "      <td>11-19-2016_21_36_49_TopA</td>\n",
       "    </tr>\n",
       "  </tbody>\n",
       "</table>\n",
       "</div>"
      ],
      "text/plain": [
       "   FB_field_13  IREvap  ImagFreq1  ImagFreq2  RF23_Center  RFspect  \\\n",
       "0        3.556    0.75      149.9      189.4        84.02  76.0275   \n",
       "1        3.556    0.75      149.9      189.4        84.02  76.0275   \n",
       "2        3.556    0.75      149.9      189.4        84.02  76.0270   \n",
       "3        3.556    0.75      149.9      189.4        84.02  76.0270   \n",
       "4        3.556    0.75      149.9      189.4        84.02  76.0265   \n",
       "5        3.556    0.75      149.9      189.4        84.02  76.0265   \n",
       "6        3.556    0.75      149.9      189.4        84.02  76.0260   \n",
       "7        3.556    0.75      149.9      189.4        84.02  76.0260   \n",
       "8        3.556    0.75      149.9      189.4        84.02  76.0255   \n",
       "\n",
       "                  imagename  \n",
       "0  11-19-2016_21_40_03_TopA  \n",
       "1  11-19-2016_21_40_03_TopB  \n",
       "2  11-19-2016_21_39_15_TopA  \n",
       "3  11-19-2016_21_39_15_TopB  \n",
       "4  11-19-2016_21_38_26_TopA  \n",
       "5  11-19-2016_21_38_26_TopB  \n",
       "6  11-19-2016_21_37_37_TopA  \n",
       "7  11-19-2016_21_37_37_TopB  \n",
       "8  11-19-2016_21_36_49_TopA  "
      ]
     },
     "execution_count": 5,
     "metadata": {},
     "output_type": "execute_result"
    }
   ],
   "source": [
    "df = pd.read_clipboard(names=['blah'])\n",
    "images=['11-19-2016_21_40_03_TopA','11-19-2016_21_40_03_TopB','11-19-2016_21_39_15_TopA','11-19-2016_21_39_15_TopB','11-19-2016_21_38_26_TopA','11-19-2016_21_38_26_TopB','11-19-2016_21_37_37_TopA','11-19-2016_21_37_37_TopB','11-19-2016_21_36_49_TopA']\n",
    "params = ['ImagFreq1', 'ImagFreq2','IREvap','RF23_Center','RFspect','FB_field_13']\n",
    "out = tul.image_query(images,params)\n",
    "out"
   ]
  },
  {
   "cell_type": "code",
   "execution_count": null,
   "metadata": {
    "collapsed": true
   },
   "outputs": [],
   "source": []
  }
 ],
 "metadata": {
  "anaconda-cloud": {},
  "kernelspec": {
   "display_name": "Python 3",
   "language": "python",
   "name": "python3"
  },
  "language_info": {
   "codemirror_mode": {
    "name": "ipython",
    "version": 3
   },
   "file_extension": ".py",
   "mimetype": "text/x-python",
   "name": "python",
   "nbconvert_exporter": "python",
   "pygments_lexer": "ipython3",
   "version": "3.5.1"
  },
  "toc": {
   "colors": {
    "hover_highlight": "#DAA520",
    "running_highlight": "#FF0000",
    "selected_highlight": "#FFD700"
   },
   "moveMenuLeft": true,
   "nav_menu": {
    "height": "12px",
    "width": "252px"
   },
   "navigate_menu": true,
   "number_sections": true,
   "sideBar": true,
   "threshold": 4,
   "toc_cell": false,
   "toc_section_display": "block",
   "toc_window_display": false
  }
 },
 "nbformat": 4,
 "nbformat_minor": 1
}
